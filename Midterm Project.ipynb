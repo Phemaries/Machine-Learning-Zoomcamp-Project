{
 "cells": [
  {
   "cell_type": "markdown",
   "metadata": {},
   "source": [
    "### MID-TERM PROJECT"
   ]
  },
  {
   "cell_type": "code",
   "execution_count": 55,
   "metadata": {},
   "outputs": [],
   "source": [
    "#Import Libraries\n",
    "import pandas as pd\n",
    "import numpy as np\n",
    "\n",
    "pd.set_option('display.max_rows', 800)\n",
    "pd.set_option('display.max_columns', 500)\n",
    "\n",
    "import matplotlib.pyplot as plt\n",
    "import matplotlib as mpl\n",
    "import seaborn as sns\n",
    "sns.set()\n",
    "\n",
    "import warnings\n",
    "warnings.filterwarnings('ignore')\n",
    "\n",
    "from sklearn.model_selection import train_test_split\n",
    "from sklearn.metrics import confusion_matrix \n",
    "from sklearn.metrics import classification_report \n",
    "from sklearn.metrics import accuracy_score \n",
    "from sklearn.linear_model import LogisticRegression\n",
    "from sklearn.linear_model import LinearRegression\n",
    "from sklearn.tree import DecisionTreeClassifier\n",
    "from sklearn.ensemble import RandomForestClassifier\n",
    "from sklearn.feature_extraction import DictVectorizer\n",
    "from sklearn.metrics import roc_curve\n",
    "from sklearn.metrics import roc_auc_score\n",
    "from sklearn.metrics import mean_squared_error\n",
    "from sklearn.metrics import mutual_info_score\n",
    "from sklearn.linear_model import RidgeClassifier\n",
    "\n",
    "from sklearn.model_selection import cross_val_score\n",
    "from sklearn.metrics import precision_recall_curve\n",
    "\n",
    "import re\n",
    "\n",
    "import xgboost as xgb"
   ]
  },
  {
   "cell_type": "code",
   "execution_count": null,
   "metadata": {},
   "outputs": [],
   "source": []
  },
  {
   "cell_type": "code",
   "execution_count": 56,
   "metadata": {},
   "outputs": [],
   "source": [
    "df = pd.read_csv(\"C:/Users/Co/Desktop/ML_ZOOMCAMP Project/MonkeyPox.csv\")"
   ]
  },
  {
   "cell_type": "code",
   "execution_count": 57,
   "metadata": {},
   "outputs": [
    {
     "data": {
      "text/html": [
       "<div>\n",
       "<style scoped>\n",
       "    .dataframe tbody tr th:only-of-type {\n",
       "        vertical-align: middle;\n",
       "    }\n",
       "\n",
       "    .dataframe tbody tr th {\n",
       "        vertical-align: top;\n",
       "    }\n",
       "\n",
       "    .dataframe thead th {\n",
       "        text-align: right;\n",
       "    }\n",
       "</style>\n",
       "<table border=\"1\" class=\"dataframe\">\n",
       "  <thead>\n",
       "    <tr style=\"text-align: right;\">\n",
       "      <th></th>\n",
       "      <th>Patient_ID</th>\n",
       "      <th>Systemic Illness</th>\n",
       "      <th>Rectal Pain</th>\n",
       "      <th>Sore Throat</th>\n",
       "      <th>Penile Oedema</th>\n",
       "      <th>Oral Lesions</th>\n",
       "      <th>Solitary Lesion</th>\n",
       "      <th>Swollen Tonsils</th>\n",
       "      <th>HIV Infection</th>\n",
       "      <th>Sexually Transmitted Infection</th>\n",
       "      <th>MonkeyPox</th>\n",
       "    </tr>\n",
       "  </thead>\n",
       "  <tbody>\n",
       "    <tr>\n",
       "      <th>0</th>\n",
       "      <td>P0</td>\n",
       "      <td>None</td>\n",
       "      <td>False</td>\n",
       "      <td>True</td>\n",
       "      <td>True</td>\n",
       "      <td>True</td>\n",
       "      <td>False</td>\n",
       "      <td>True</td>\n",
       "      <td>False</td>\n",
       "      <td>False</td>\n",
       "      <td>Negative</td>\n",
       "    </tr>\n",
       "    <tr>\n",
       "      <th>1</th>\n",
       "      <td>P1</td>\n",
       "      <td>Fever</td>\n",
       "      <td>True</td>\n",
       "      <td>False</td>\n",
       "      <td>True</td>\n",
       "      <td>True</td>\n",
       "      <td>False</td>\n",
       "      <td>False</td>\n",
       "      <td>True</td>\n",
       "      <td>False</td>\n",
       "      <td>Positive</td>\n",
       "    </tr>\n",
       "    <tr>\n",
       "      <th>2</th>\n",
       "      <td>P2</td>\n",
       "      <td>Fever</td>\n",
       "      <td>False</td>\n",
       "      <td>True</td>\n",
       "      <td>True</td>\n",
       "      <td>False</td>\n",
       "      <td>False</td>\n",
       "      <td>False</td>\n",
       "      <td>True</td>\n",
       "      <td>False</td>\n",
       "      <td>Positive</td>\n",
       "    </tr>\n",
       "    <tr>\n",
       "      <th>3</th>\n",
       "      <td>P3</td>\n",
       "      <td>None</td>\n",
       "      <td>True</td>\n",
       "      <td>False</td>\n",
       "      <td>False</td>\n",
       "      <td>False</td>\n",
       "      <td>True</td>\n",
       "      <td>True</td>\n",
       "      <td>True</td>\n",
       "      <td>False</td>\n",
       "      <td>Positive</td>\n",
       "    </tr>\n",
       "    <tr>\n",
       "      <th>4</th>\n",
       "      <td>P4</td>\n",
       "      <td>Swollen Lymph Nodes</td>\n",
       "      <td>True</td>\n",
       "      <td>True</td>\n",
       "      <td>True</td>\n",
       "      <td>False</td>\n",
       "      <td>False</td>\n",
       "      <td>True</td>\n",
       "      <td>True</td>\n",
       "      <td>False</td>\n",
       "      <td>Positive</td>\n",
       "    </tr>\n",
       "  </tbody>\n",
       "</table>\n",
       "</div>"
      ],
      "text/plain": [
       "  Patient_ID     Systemic Illness  Rectal Pain  Sore Throat  Penile Oedema  \\\n",
       "0         P0                 None        False         True           True   \n",
       "1         P1                Fever         True        False           True   \n",
       "2         P2                Fever        False         True           True   \n",
       "3         P3                 None         True        False          False   \n",
       "4         P4  Swollen Lymph Nodes         True         True           True   \n",
       "\n",
       "   Oral Lesions  Solitary Lesion  Swollen Tonsils  HIV Infection  \\\n",
       "0          True            False             True          False   \n",
       "1          True            False            False           True   \n",
       "2         False            False            False           True   \n",
       "3         False             True             True           True   \n",
       "4         False            False             True           True   \n",
       "\n",
       "   Sexually Transmitted Infection MonkeyPox  \n",
       "0                           False  Negative  \n",
       "1                           False  Positive  \n",
       "2                           False  Positive  \n",
       "3                           False  Positive  \n",
       "4                           False  Positive  "
      ]
     },
     "execution_count": 57,
     "metadata": {},
     "output_type": "execute_result"
    }
   ],
   "source": [
    "df.head()"
   ]
  },
  {
   "cell_type": "code",
   "execution_count": 58,
   "metadata": {},
   "outputs": [
    {
     "data": {
      "text/plain": [
       "Patient_ID                        object\n",
       "Systemic Illness                  object\n",
       "Rectal Pain                         bool\n",
       "Sore Throat                         bool\n",
       "Penile Oedema                       bool\n",
       "Oral Lesions                        bool\n",
       "Solitary Lesion                     bool\n",
       "Swollen Tonsils                     bool\n",
       "HIV Infection                       bool\n",
       "Sexually Transmitted Infection      bool\n",
       "MonkeyPox                         object\n",
       "dtype: object"
      ]
     },
     "execution_count": 58,
     "metadata": {},
     "output_type": "execute_result"
    }
   ],
   "source": [
    "df.dtypes"
   ]
  },
  {
   "cell_type": "code",
   "execution_count": 59,
   "metadata": {},
   "outputs": [
    {
     "name": "stdout",
     "output_type": "stream",
     "text": [
      "<class 'pandas.core.frame.DataFrame'>\n",
      "RangeIndex: 25000 entries, 0 to 24999\n",
      "Data columns (total 11 columns):\n",
      " #   Column                          Non-Null Count  Dtype \n",
      "---  ------                          --------------  ----- \n",
      " 0   Patient_ID                      25000 non-null  object\n",
      " 1   Systemic Illness                25000 non-null  object\n",
      " 2   Rectal Pain                     25000 non-null  bool  \n",
      " 3   Sore Throat                     25000 non-null  bool  \n",
      " 4   Penile Oedema                   25000 non-null  bool  \n",
      " 5   Oral Lesions                    25000 non-null  bool  \n",
      " 6   Solitary Lesion                 25000 non-null  bool  \n",
      " 7   Swollen Tonsils                 25000 non-null  bool  \n",
      " 8   HIV Infection                   25000 non-null  bool  \n",
      " 9   Sexually Transmitted Infection  25000 non-null  bool  \n",
      " 10  MonkeyPox                       25000 non-null  object\n",
      "dtypes: bool(8), object(3)\n",
      "memory usage: 781.4+ KB\n"
     ]
    }
   ],
   "source": [
    "df.info()"
   ]
  },
  {
   "cell_type": "code",
   "execution_count": 60,
   "metadata": {},
   "outputs": [],
   "source": [
    "df.columns = df.columns.str.lower().str.replace(' ', '_')"
   ]
  },
  {
   "cell_type": "code",
   "execution_count": 61,
   "metadata": {},
   "outputs": [
    {
     "data": {
      "text/plain": [
       "Index(['patient_id', 'systemic_illness', 'rectal_pain', 'sore_throat',\n",
       "       'penile_oedema', 'oral_lesions', 'solitary_lesion', 'swollen_tonsils',\n",
       "       'hiv_infection', 'sexually_transmitted_infection', 'monkeypox'],\n",
       "      dtype='object')"
      ]
     },
     "execution_count": 61,
     "metadata": {},
     "output_type": "execute_result"
    }
   ],
   "source": [
    "df.columns"
   ]
  },
  {
   "cell_type": "code",
   "execution_count": 62,
   "metadata": {},
   "outputs": [],
   "source": [
    "## let's drop the patien_id column which won't contribute to the model using domain knowldedge.\n",
    "df.drop(['patient_id'],axis=1,inplace=True)"
   ]
  },
  {
   "cell_type": "code",
   "execution_count": 63,
   "metadata": {},
   "outputs": [
    {
     "name": "stdout",
     "output_type": "stream",
     "text": [
      "Columns with categorical variables are: ['systemic_illness', 'monkeypox'] \n",
      "\n",
      "Columns with boolean are: ['rectal_pain', 'sore_throat', 'penile_oedema', 'oral_lesions', 'solitary_lesion', 'swollen_tonsils', 'hiv_infection', 'sexually_transmitted_infection']\n"
     ]
    }
   ],
   "source": [
    "# data variables are object ar boolean\n",
    "\n",
    "cat_cols = list(df.dtypes[df.dtypes == 'object'].index)\n",
    "print(f'Columns with categorical variables are: {cat_cols} \\n')\n",
    "\n",
    "\n",
    "bool_cols = list(df.dtypes[df.dtypes == 'bool'].index)\n",
    "print(f'Columns with boolean are: {bool_cols}')"
   ]
  },
  {
   "cell_type": "code",
   "execution_count": 64,
   "metadata": {},
   "outputs": [
    {
     "data": {
      "text/html": [
       "<div>\n",
       "<style scoped>\n",
       "    .dataframe tbody tr th:only-of-type {\n",
       "        vertical-align: middle;\n",
       "    }\n",
       "\n",
       "    .dataframe tbody tr th {\n",
       "        vertical-align: top;\n",
       "    }\n",
       "\n",
       "    .dataframe thead th {\n",
       "        text-align: right;\n",
       "    }\n",
       "</style>\n",
       "<table border=\"1\" class=\"dataframe\">\n",
       "  <thead>\n",
       "    <tr style=\"text-align: right;\">\n",
       "      <th></th>\n",
       "      <th>rectal_pain</th>\n",
       "      <th>sore_throat</th>\n",
       "      <th>penile_oedema</th>\n",
       "      <th>oral_lesions</th>\n",
       "      <th>solitary_lesion</th>\n",
       "      <th>swollen_tonsils</th>\n",
       "      <th>hiv_infection</th>\n",
       "      <th>sexually_transmitted_infection</th>\n",
       "    </tr>\n",
       "  </thead>\n",
       "  <tbody>\n",
       "    <tr>\n",
       "      <th>0</th>\n",
       "      <td>0</td>\n",
       "      <td>1</td>\n",
       "      <td>1</td>\n",
       "      <td>1</td>\n",
       "      <td>0</td>\n",
       "      <td>1</td>\n",
       "      <td>0</td>\n",
       "      <td>0</td>\n",
       "    </tr>\n",
       "    <tr>\n",
       "      <th>1</th>\n",
       "      <td>1</td>\n",
       "      <td>0</td>\n",
       "      <td>1</td>\n",
       "      <td>1</td>\n",
       "      <td>0</td>\n",
       "      <td>0</td>\n",
       "      <td>1</td>\n",
       "      <td>0</td>\n",
       "    </tr>\n",
       "    <tr>\n",
       "      <th>2</th>\n",
       "      <td>0</td>\n",
       "      <td>1</td>\n",
       "      <td>1</td>\n",
       "      <td>0</td>\n",
       "      <td>0</td>\n",
       "      <td>0</td>\n",
       "      <td>1</td>\n",
       "      <td>0</td>\n",
       "    </tr>\n",
       "    <tr>\n",
       "      <th>3</th>\n",
       "      <td>1</td>\n",
       "      <td>0</td>\n",
       "      <td>0</td>\n",
       "      <td>0</td>\n",
       "      <td>1</td>\n",
       "      <td>1</td>\n",
       "      <td>1</td>\n",
       "      <td>0</td>\n",
       "    </tr>\n",
       "    <tr>\n",
       "      <th>4</th>\n",
       "      <td>1</td>\n",
       "      <td>1</td>\n",
       "      <td>1</td>\n",
       "      <td>0</td>\n",
       "      <td>0</td>\n",
       "      <td>1</td>\n",
       "      <td>1</td>\n",
       "      <td>0</td>\n",
       "    </tr>\n",
       "    <tr>\n",
       "      <th>...</th>\n",
       "      <td>...</td>\n",
       "      <td>...</td>\n",
       "      <td>...</td>\n",
       "      <td>...</td>\n",
       "      <td>...</td>\n",
       "      <td>...</td>\n",
       "      <td>...</td>\n",
       "      <td>...</td>\n",
       "    </tr>\n",
       "    <tr>\n",
       "      <th>24995</th>\n",
       "      <td>1</td>\n",
       "      <td>1</td>\n",
       "      <td>0</td>\n",
       "      <td>1</td>\n",
       "      <td>1</td>\n",
       "      <td>0</td>\n",
       "      <td>0</td>\n",
       "      <td>1</td>\n",
       "    </tr>\n",
       "    <tr>\n",
       "      <th>24996</th>\n",
       "      <td>0</td>\n",
       "      <td>1</td>\n",
       "      <td>1</td>\n",
       "      <td>0</td>\n",
       "      <td>1</td>\n",
       "      <td>1</td>\n",
       "      <td>1</td>\n",
       "      <td>1</td>\n",
       "    </tr>\n",
       "    <tr>\n",
       "      <th>24997</th>\n",
       "      <td>1</td>\n",
       "      <td>1</td>\n",
       "      <td>0</td>\n",
       "      <td>0</td>\n",
       "      <td>1</td>\n",
       "      <td>1</td>\n",
       "      <td>0</td>\n",
       "      <td>0</td>\n",
       "    </tr>\n",
       "    <tr>\n",
       "      <th>24998</th>\n",
       "      <td>0</td>\n",
       "      <td>1</td>\n",
       "      <td>0</td>\n",
       "      <td>1</td>\n",
       "      <td>1</td>\n",
       "      <td>1</td>\n",
       "      <td>0</td>\n",
       "      <td>0</td>\n",
       "    </tr>\n",
       "    <tr>\n",
       "      <th>24999</th>\n",
       "      <td>0</td>\n",
       "      <td>0</td>\n",
       "      <td>1</td>\n",
       "      <td>0</td>\n",
       "      <td>0</td>\n",
       "      <td>1</td>\n",
       "      <td>1</td>\n",
       "      <td>0</td>\n",
       "    </tr>\n",
       "  </tbody>\n",
       "</table>\n",
       "<p>25000 rows × 8 columns</p>\n",
       "</div>"
      ],
      "text/plain": [
       "       rectal_pain  sore_throat  penile_oedema  oral_lesions  solitary_lesion  \\\n",
       "0                0            1              1             1                0   \n",
       "1                1            0              1             1                0   \n",
       "2                0            1              1             0                0   \n",
       "3                1            0              0             0                1   \n",
       "4                1            1              1             0                0   \n",
       "...            ...          ...            ...           ...              ...   \n",
       "24995            1            1              0             1                1   \n",
       "24996            0            1              1             0                1   \n",
       "24997            1            1              0             0                1   \n",
       "24998            0            1              0             1                1   \n",
       "24999            0            0              1             0                0   \n",
       "\n",
       "       swollen_tonsils  hiv_infection  sexually_transmitted_infection  \n",
       "0                    1              0                               0  \n",
       "1                    0              1                               0  \n",
       "2                    0              1                               0  \n",
       "3                    1              1                               0  \n",
       "4                    1              1                               0  \n",
       "...                ...            ...                             ...  \n",
       "24995                0              0                               1  \n",
       "24996                1              1                               1  \n",
       "24997                1              0                               0  \n",
       "24998                1              0                               0  \n",
       "24999                1              1                               0  \n",
       "\n",
       "[25000 rows x 8 columns]"
      ]
     },
     "execution_count": 64,
     "metadata": {},
     "output_type": "execute_result"
    }
   ],
   "source": [
    "#convert boolean to integers\n",
    "df[bool_cols] = df[bool_cols].astype(int)\n",
    "df[bool_cols]"
   ]
  },
  {
   "cell_type": "code",
   "execution_count": 65,
   "metadata": {},
   "outputs": [
    {
     "data": {
      "text/html": [
       "<div>\n",
       "<style scoped>\n",
       "    .dataframe tbody tr th:only-of-type {\n",
       "        vertical-align: middle;\n",
       "    }\n",
       "\n",
       "    .dataframe tbody tr th {\n",
       "        vertical-align: top;\n",
       "    }\n",
       "\n",
       "    .dataframe thead th {\n",
       "        text-align: right;\n",
       "    }\n",
       "</style>\n",
       "<table border=\"1\" class=\"dataframe\">\n",
       "  <thead>\n",
       "    <tr style=\"text-align: right;\">\n",
       "      <th></th>\n",
       "      <th>rectal_pain</th>\n",
       "      <th>sore_throat</th>\n",
       "      <th>penile_oedema</th>\n",
       "      <th>oral_lesions</th>\n",
       "      <th>solitary_lesion</th>\n",
       "      <th>swollen_tonsils</th>\n",
       "      <th>hiv_infection</th>\n",
       "      <th>sexually_transmitted_infection</th>\n",
       "    </tr>\n",
       "  </thead>\n",
       "  <tbody>\n",
       "    <tr>\n",
       "      <th>count</th>\n",
       "      <td>25000.000000</td>\n",
       "      <td>25000.000000</td>\n",
       "      <td>25000.00000</td>\n",
       "      <td>25000.00000</td>\n",
       "      <td>25000.000000</td>\n",
       "      <td>25000.000000</td>\n",
       "      <td>25000.000000</td>\n",
       "      <td>25000.000000</td>\n",
       "    </tr>\n",
       "    <tr>\n",
       "      <th>mean</th>\n",
       "      <td>0.493800</td>\n",
       "      <td>0.502160</td>\n",
       "      <td>0.50448</td>\n",
       "      <td>0.49944</td>\n",
       "      <td>0.501080</td>\n",
       "      <td>0.501320</td>\n",
       "      <td>0.503360</td>\n",
       "      <td>0.497840</td>\n",
       "    </tr>\n",
       "    <tr>\n",
       "      <th>std</th>\n",
       "      <td>0.499972</td>\n",
       "      <td>0.500005</td>\n",
       "      <td>0.49999</td>\n",
       "      <td>0.50001</td>\n",
       "      <td>0.500009</td>\n",
       "      <td>0.500008</td>\n",
       "      <td>0.499999</td>\n",
       "      <td>0.500005</td>\n",
       "    </tr>\n",
       "    <tr>\n",
       "      <th>min</th>\n",
       "      <td>0.000000</td>\n",
       "      <td>0.000000</td>\n",
       "      <td>0.00000</td>\n",
       "      <td>0.00000</td>\n",
       "      <td>0.000000</td>\n",
       "      <td>0.000000</td>\n",
       "      <td>0.000000</td>\n",
       "      <td>0.000000</td>\n",
       "    </tr>\n",
       "    <tr>\n",
       "      <th>25%</th>\n",
       "      <td>0.000000</td>\n",
       "      <td>0.000000</td>\n",
       "      <td>0.00000</td>\n",
       "      <td>0.00000</td>\n",
       "      <td>0.000000</td>\n",
       "      <td>0.000000</td>\n",
       "      <td>0.000000</td>\n",
       "      <td>0.000000</td>\n",
       "    </tr>\n",
       "    <tr>\n",
       "      <th>50%</th>\n",
       "      <td>0.000000</td>\n",
       "      <td>1.000000</td>\n",
       "      <td>1.00000</td>\n",
       "      <td>0.00000</td>\n",
       "      <td>1.000000</td>\n",
       "      <td>1.000000</td>\n",
       "      <td>1.000000</td>\n",
       "      <td>0.000000</td>\n",
       "    </tr>\n",
       "    <tr>\n",
       "      <th>75%</th>\n",
       "      <td>1.000000</td>\n",
       "      <td>1.000000</td>\n",
       "      <td>1.00000</td>\n",
       "      <td>1.00000</td>\n",
       "      <td>1.000000</td>\n",
       "      <td>1.000000</td>\n",
       "      <td>1.000000</td>\n",
       "      <td>1.000000</td>\n",
       "    </tr>\n",
       "    <tr>\n",
       "      <th>max</th>\n",
       "      <td>1.000000</td>\n",
       "      <td>1.000000</td>\n",
       "      <td>1.00000</td>\n",
       "      <td>1.00000</td>\n",
       "      <td>1.000000</td>\n",
       "      <td>1.000000</td>\n",
       "      <td>1.000000</td>\n",
       "      <td>1.000000</td>\n",
       "    </tr>\n",
       "  </tbody>\n",
       "</table>\n",
       "</div>"
      ],
      "text/plain": [
       "        rectal_pain   sore_throat  penile_oedema  oral_lesions  \\\n",
       "count  25000.000000  25000.000000    25000.00000   25000.00000   \n",
       "mean       0.493800      0.502160        0.50448       0.49944   \n",
       "std        0.499972      0.500005        0.49999       0.50001   \n",
       "min        0.000000      0.000000        0.00000       0.00000   \n",
       "25%        0.000000      0.000000        0.00000       0.00000   \n",
       "50%        0.000000      1.000000        1.00000       0.00000   \n",
       "75%        1.000000      1.000000        1.00000       1.00000   \n",
       "max        1.000000      1.000000        1.00000       1.00000   \n",
       "\n",
       "       solitary_lesion  swollen_tonsils  hiv_infection  \\\n",
       "count     25000.000000     25000.000000   25000.000000   \n",
       "mean          0.501080         0.501320       0.503360   \n",
       "std           0.500009         0.500008       0.499999   \n",
       "min           0.000000         0.000000       0.000000   \n",
       "25%           0.000000         0.000000       0.000000   \n",
       "50%           1.000000         1.000000       1.000000   \n",
       "75%           1.000000         1.000000       1.000000   \n",
       "max           1.000000         1.000000       1.000000   \n",
       "\n",
       "       sexually_transmitted_infection  \n",
       "count                    25000.000000  \n",
       "mean                         0.497840  \n",
       "std                          0.500005  \n",
       "min                          0.000000  \n",
       "25%                          0.000000  \n",
       "50%                          0.000000  \n",
       "75%                          1.000000  \n",
       "max                          1.000000  "
      ]
     },
     "execution_count": 65,
     "metadata": {},
     "output_type": "execute_result"
    }
   ],
   "source": [
    "df.describe()"
   ]
  },
  {
   "cell_type": "code",
   "execution_count": 66,
   "metadata": {},
   "outputs": [
    {
     "name": "stdout",
     "output_type": "stream",
     "text": [
      "SYSTEMIC_ILLNESS: \n",
      "\n",
      "Fever                    6382\n",
      "Swollen Lymph Nodes      6252\n",
      "None                     6216\n",
      "Muscle Aches and Pain    6150\n",
      "Name: systemic_illness, dtype: int64\n",
      "\n",
      "\n",
      "RECTAL_PAIN: \n",
      "\n",
      "0    12655\n",
      "1    12345\n",
      "Name: rectal_pain, dtype: int64\n",
      "\n",
      "\n",
      "SORE_THROAT: \n",
      "\n",
      "1    12554\n",
      "0    12446\n",
      "Name: sore_throat, dtype: int64\n",
      "\n",
      "\n",
      "PENILE_OEDEMA: \n",
      "\n",
      "1    12612\n",
      "0    12388\n",
      "Name: penile_oedema, dtype: int64\n",
      "\n",
      "\n",
      "ORAL_LESIONS: \n",
      "\n",
      "0    12514\n",
      "1    12486\n",
      "Name: oral_lesions, dtype: int64\n",
      "\n",
      "\n",
      "SOLITARY_LESION: \n",
      "\n",
      "1    12527\n",
      "0    12473\n",
      "Name: solitary_lesion, dtype: int64\n",
      "\n",
      "\n",
      "SWOLLEN_TONSILS: \n",
      "\n",
      "1    12533\n",
      "0    12467\n",
      "Name: swollen_tonsils, dtype: int64\n",
      "\n",
      "\n",
      "HIV_INFECTION: \n",
      "\n",
      "1    12584\n",
      "0    12416\n",
      "Name: hiv_infection, dtype: int64\n",
      "\n",
      "\n",
      "SEXUALLY_TRANSMITTED_INFECTION: \n",
      "\n",
      "0    12554\n",
      "1    12446\n",
      "Name: sexually_transmitted_infection, dtype: int64\n",
      "\n",
      "\n",
      "MONKEYPOX: \n",
      "\n",
      "Positive    15909\n",
      "Negative     9091\n",
      "Name: monkeypox, dtype: int64\n",
      "\n",
      "\n"
     ]
    }
   ],
   "source": [
    "for col in df.columns:\n",
    "    gra = df[col].value_counts()\n",
    "    print(f'{col.upper()}: \\n')\n",
    "    print(gra)\n",
    "    print('\\n')\n",
    "    "
   ]
  },
  {
   "cell_type": "code",
   "execution_count": null,
   "metadata": {},
   "outputs": [],
   "source": []
  },
  {
   "cell_type": "code",
   "execution_count": null,
   "metadata": {},
   "outputs": [],
   "source": []
  },
  {
   "cell_type": "code",
   "execution_count": 67,
   "metadata": {},
   "outputs": [],
   "source": [
    "df['monkeypox'] = df['monkeypox'].replace(['Positive', 'Negative'], [1, 0])"
   ]
  },
  {
   "cell_type": "code",
   "execution_count": 68,
   "metadata": {},
   "outputs": [
    {
     "data": {
      "text/plain": [
       "1    15909\n",
       "0     9091\n",
       "Name: monkeypox, dtype: int64"
      ]
     },
     "execution_count": 68,
     "metadata": {},
     "output_type": "execute_result"
    }
   ],
   "source": [
    "df.monkeypox.value_counts()"
   ]
  },
  {
   "cell_type": "code",
   "execution_count": 69,
   "metadata": {},
   "outputs": [
    {
     "data": {
      "text/plain": [
       "systemic_illness                  object\n",
       "rectal_pain                        int32\n",
       "sore_throat                        int32\n",
       "penile_oedema                      int32\n",
       "oral_lesions                       int32\n",
       "solitary_lesion                    int32\n",
       "swollen_tonsils                    int32\n",
       "hiv_infection                      int32\n",
       "sexually_transmitted_infection     int32\n",
       "monkeypox                          int64\n",
       "dtype: object"
      ]
     },
     "execution_count": 69,
     "metadata": {},
     "output_type": "execute_result"
    }
   ],
   "source": [
    "df.dtypes"
   ]
  },
  {
   "cell_type": "code",
   "execution_count": 70,
   "metadata": {},
   "outputs": [
    {
     "data": {
      "image/png": "[encoded data removed]",
      "text/plain": [
       "<Figure size 864x576 with 2 Axes>"
      ]
     },
     "metadata": {},
     "output_type": "display_data"
    }
   ],
   "source": [
    "# Let's check the multicollinearity of features by checking the correlation matric\n",
    "\n",
    "plt.figure(figsize=(12,8))\n",
    "p=sns.heatmap(df.corr(), annot=True,cmap='RdYlGn',center=0) "
   ]
  },
  {
   "cell_type": "markdown",
   "metadata": {},
   "source": [
    "### Validation, Testing and Prediction"
   ]
  },
  {
   "cell_type": "code",
   "execution_count": 71,
   "metadata": {},
   "outputs": [],
   "source": [
    "# split data set to 60/20/20 for validation and testing\n",
    "data_full_train, data_test = train_test_split(df, test_size=0.2, random_state=42)\n",
    "data_train, data_val = train_test_split(data_full_train, test_size=0.25, random_state=42)"
   ]
  },
  {
   "cell_type": "code",
   "execution_count": 72,
   "metadata": {},
   "outputs": [
    {
     "data": {
      "text/plain": [
       "(15000, 5000, 5000)"
      ]
     },
     "execution_count": 72,
     "metadata": {},
     "output_type": "execute_result"
    }
   ],
   "source": [
    "len(data_train), len(data_val), len(data_test)"
   ]
  },
  {
   "cell_type": "code",
   "execution_count": 73,
   "metadata": {},
   "outputs": [],
   "source": [
    "y_train = data_train.monkeypox.values\n",
    "y_val = data_val.monkeypox.values\n",
    "y_test = data_test.monkeypox.values\n",
    "\n",
    "del data_train['monkeypox']\n",
    "del data_val['monkeypox']\n",
    "del data_test['monkeypox']"
   ]
  },
  {
   "cell_type": "code",
   "execution_count": 74,
   "metadata": {},
   "outputs": [
    {
     "data": {
      "text/plain": [
       "['rectal_pain',\n",
       " 'sore_throat',\n",
       " 'penile_oedema',\n",
       " 'oral_lesions',\n",
       " 'solitary_lesion',\n",
       " 'swollen_tonsils',\n",
       " 'hiv_infection',\n",
       " 'sexually_transmitted_infection']"
      ]
     },
     "execution_count": 74,
     "metadata": {},
     "output_type": "execute_result"
    }
   ],
   "source": [
    "bool_cols"
   ]
  },
  {
   "cell_type": "markdown",
   "metadata": {},
   "source": [
    "#### Check AUC score"
   ]
  },
  {
   "cell_type": "code",
   "execution_count": 75,
   "metadata": {},
   "outputs": [],
   "source": [
    "# bool_cols"
   ]
  },
  {
   "cell_type": "code",
   "execution_count": 76,
   "metadata": {},
   "outputs": [
    {
     "name": "stdout",
     "output_type": "stream",
     "text": [
      "rectal_pain, 0.57\n",
      "sore_throat, 0.532\n",
      "penile_oedema, 0.529\n",
      "oral_lesions, 0.528\n",
      "solitary_lesion, 0.522\n",
      "swollen_tonsils, 0.508\n",
      "hiv_infection, 0.581\n",
      "sexually_transmitted_infection, 0.564\n"
     ]
    }
   ],
   "source": [
    "# from sklearn.metrics import roc_auc_score\n",
    "\n",
    "for cols in bool_cols:\n",
    "    rauc = roc_auc_score(y_train, data_train[cols])\n",
    "    if rauc < 0.5: #if variable is negatively correlated\n",
    "        rauc = roc_auc_score(y_train, -data_train[cols])\n",
    "    print(f'{cols}, {rauc:.3}')"
   ]
  },
  {
   "cell_type": "code",
   "execution_count": null,
   "metadata": {},
   "outputs": [],
   "source": []
  },
  {
   "cell_type": "code",
   "execution_count": 77,
   "metadata": {},
   "outputs": [],
   "source": [
    "# cat_cols = cat_cols[0]"
   ]
  },
  {
   "cell_type": "code",
   "execution_count": 78,
   "metadata": {},
   "outputs": [],
   "source": [
    "# from sklearn.metrics import mutual_info_score"
   ]
  },
  {
   "cell_type": "code",
   "execution_count": 79,
   "metadata": {},
   "outputs": [
    {
     "name": "stdout",
     "output_type": "stream",
     "text": [
      "Systemic Illness has a mutual_score of 0.02363286781639909\n",
      "\n"
     ]
    }
   ],
   "source": [
    "mut_score = mutual_info_score(y_train, data_train.systemic_illness)\n",
    "print(f'Systemic Illness has a mutual_score of {mut_score}')\n",
    "print()"
   ]
  },
  {
   "cell_type": "code",
   "execution_count": null,
   "metadata": {},
   "outputs": [],
   "source": []
  },
  {
   "cell_type": "code",
   "execution_count": 80,
   "metadata": {},
   "outputs": [],
   "source": [
    "dv = DictVectorizer(sparse=False)\n",
    "\n",
    "train_dict = data_train.to_dict(orient='records')\n",
    "X_train = dv.fit_transform(train_dict).astype(int)\n",
    "\n",
    "val_dict = data_val.to_dict(orient='records')\n",
    "X_val = dv.transform(val_dict).astype(int)"
   ]
  },
  {
   "cell_type": "code",
   "execution_count": 81,
   "metadata": {},
   "outputs": [
    {
     "data": {
      "text/plain": [
       "(15000, 12)"
      ]
     },
     "execution_count": 81,
     "metadata": {},
     "output_type": "execute_result"
    }
   ],
   "source": [
    "X_train.shape"
   ]
  },
  {
   "cell_type": "markdown",
   "metadata": {},
   "source": [
    "#### Precision and Recall for models"
   ]
  },
  {
   "cell_type": "code",
   "execution_count": null,
   "metadata": {},
   "outputs": [],
   "source": []
  },
  {
   "cell_type": "code",
   "execution_count": 82,
   "metadata": {},
   "outputs": [
    {
     "name": "stdout",
     "output_type": "stream",
     "text": [
      "Classifiers to test: ['LogisticRegression', 'RandomForestClassifier', 'DecisionTreeClassifier', 'RidgeClassifier']\n"
     ]
    }
   ],
   "source": [
    "# models to test\n",
    "classifiers = [\n",
    "    LogisticRegression(),\n",
    "    RandomForestClassifier(),\n",
    "    DecisionTreeClassifier(),\n",
    "    RidgeClassifier(),\n",
    "]\n",
    "# get names of the objects in list (too lazy for c&p...)\n",
    "names = [re.match(r\"[^\\(]+\", name.__str__())[0] for name in classifiers]\n",
    "print(f\"Classifiers to test: {names}\")"
   ]
  },
  {
   "cell_type": "code",
   "execution_count": 83,
   "metadata": {},
   "outputs": [
    {
     "name": "stdout",
     "output_type": "stream",
     "text": [
      "Training classifier: LogisticRegression\n",
      "Training classifier: RandomForestClassifier\n",
      "Training classifier: DecisionTreeClassifier\n",
      "Training classifier: RidgeClassifier\n",
      "Wall time: 1.21 s\n"
     ]
    }
   ],
   "source": [
    "%%time\n",
    "# test all classifiers and save pred. results on test data\n",
    "results = {}\n",
    "for name, clf in zip(names, classifiers):\n",
    "    print(f\"Training classifier: {name}\")\n",
    "    clf.fit(X_train, y_train)\n",
    "    prediction = clf.predict(X_val)\n",
    "    report = classification_report(y_val, prediction)\n",
    "    results[name] = report"
   ]
  },
  {
   "cell_type": "code",
   "execution_count": 84,
   "metadata": {},
   "outputs": [
    {
     "name": "stdout",
     "output_type": "stream",
     "text": [
      "Results for LogisticRegression:\n",
      "              precision    recall  f1-score   support\n",
      "\n",
      "           0       0.62      0.38      0.47      1873\n",
      "           1       0.70      0.86      0.77      3127\n",
      "\n",
      "    accuracy                           0.68      5000\n",
      "   macro avg       0.66      0.62      0.62      5000\n",
      "weighted avg       0.67      0.68      0.66      5000\n",
      "\n",
      "\n",
      "Results for RandomForestClassifier:\n",
      "              precision    recall  f1-score   support\n",
      "\n",
      "           0       0.57      0.38      0.46      1873\n",
      "           1       0.69      0.83      0.75      3127\n",
      "\n",
      "    accuracy                           0.66      5000\n",
      "   macro avg       0.63      0.61      0.61      5000\n",
      "weighted avg       0.65      0.66      0.64      5000\n",
      "\n",
      "\n",
      "Results for DecisionTreeClassifier:\n",
      "              precision    recall  f1-score   support\n",
      "\n",
      "           0       0.55      0.41      0.47      1873\n",
      "           1       0.69      0.80      0.74      3127\n",
      "\n",
      "    accuracy                           0.65      5000\n",
      "   macro avg       0.62      0.61      0.61      5000\n",
      "weighted avg       0.64      0.65      0.64      5000\n",
      "\n",
      "\n",
      "Results for RidgeClassifier:\n",
      "              precision    recall  f1-score   support\n",
      "\n",
      "           0       0.63      0.38      0.47      1873\n",
      "           1       0.70      0.86      0.77      3127\n",
      "\n",
      "    accuracy                           0.68      5000\n",
      "   macro avg       0.66      0.62      0.62      5000\n",
      "weighted avg       0.67      0.68      0.66      5000\n",
      "\n",
      "\n"
     ]
    }
   ],
   "source": [
    "# Prediction results\n",
    "for k, v in results.items():\n",
    "    print(f\"Results for {k}:\")\n",
    "    print(f\"{v}\\n\")"
   ]
  },
  {
   "cell_type": "code",
   "execution_count": null,
   "metadata": {},
   "outputs": [],
   "source": []
  },
  {
   "cell_type": "markdown",
   "metadata": {},
   "source": [
    "### Fine-tuning the Models"
   ]
  },
  {
   "cell_type": "markdown",
   "metadata": {},
   "source": [
    "##### Logistic Regression"
   ]
  },
  {
   "cell_type": "code",
   "execution_count": 85,
   "metadata": {},
   "outputs": [
    {
     "name": "stdout",
     "output_type": "stream",
     "text": [
      "for 100 \n",
      "\n",
      "C:1 has an accuracy score: 0.6824 \n",
      "\n",
      "C:2 has an accuracy score: 0.6826 \n",
      "\n",
      "C:3 has an accuracy score: 0.6826 \n",
      "\n",
      "C:4 has an accuracy score: 0.6826 \n",
      "\n",
      "C:5 has an accuracy score: 0.6826 \n",
      "\n",
      "C:6 has an accuracy score: 0.6826 \n",
      "\n",
      "C:7 has an accuracy score: 0.6826 \n",
      "\n",
      "C:8 has an accuracy score: 0.6826 \n",
      "\n",
      "C:9 has an accuracy score: 0.6826 \n",
      "\n",
      "C:10 has an accuracy score: 0.6826 \n",
      "\n",
      "for 110 \n",
      "\n",
      "C:1 has an accuracy score: 0.6824 \n",
      "\n",
      "C:2 has an accuracy score: 0.6826 \n",
      "\n",
      "C:3 has an accuracy score: 0.6826 \n",
      "\n",
      "C:4 has an accuracy score: 0.6826 \n",
      "\n",
      "C:5 has an accuracy score: 0.6826 \n",
      "\n",
      "C:6 has an accuracy score: 0.6826 \n",
      "\n",
      "C:7 has an accuracy score: 0.6826 \n",
      "\n",
      "C:8 has an accuracy score: 0.6826 \n",
      "\n",
      "C:9 has an accuracy score: 0.6826 \n",
      "\n",
      "C:10 has an accuracy score: 0.6826 \n",
      "\n",
      "for 120 \n",
      "\n",
      "C:1 has an accuracy score: 0.6824 \n",
      "\n",
      "C:2 has an accuracy score: 0.6826 \n",
      "\n",
      "C:3 has an accuracy score: 0.6826 \n",
      "\n",
      "C:4 has an accuracy score: 0.6826 \n",
      "\n",
      "C:5 has an accuracy score: 0.6826 \n",
      "\n",
      "C:6 has an accuracy score: 0.6826 \n",
      "\n",
      "C:7 has an accuracy score: 0.6826 \n",
      "\n",
      "C:8 has an accuracy score: 0.6826 \n",
      "\n",
      "C:9 has an accuracy score: 0.6826 \n",
      "\n",
      "C:10 has an accuracy score: 0.6826 \n",
      "\n",
      "for 130 \n",
      "\n",
      "C:1 has an accuracy score: 0.6824 \n",
      "\n",
      "C:2 has an accuracy score: 0.6826 \n",
      "\n",
      "C:3 has an accuracy score: 0.6826 \n",
      "\n",
      "C:4 has an accuracy score: 0.6826 \n",
      "\n",
      "C:5 has an accuracy score: 0.6826 \n",
      "\n",
      "C:6 has an accuracy score: 0.6826 \n",
      "\n",
      "C:7 has an accuracy score: 0.6826 \n",
      "\n",
      "C:8 has an accuracy score: 0.6826 \n",
      "\n",
      "C:9 has an accuracy score: 0.6826 \n",
      "\n",
      "C:10 has an accuracy score: 0.6826 \n",
      "\n",
      "for 140 \n",
      "\n",
      "C:1 has an accuracy score: 0.6824 \n",
      "\n",
      "C:2 has an accuracy score: 0.6826 \n",
      "\n",
      "C:3 has an accuracy score: 0.6826 \n",
      "\n",
      "C:4 has an accuracy score: 0.6826 \n",
      "\n",
      "C:5 has an accuracy score: 0.6826 \n",
      "\n",
      "C:6 has an accuracy score: 0.6826 \n",
      "\n",
      "C:7 has an accuracy score: 0.6826 \n",
      "\n",
      "C:8 has an accuracy score: 0.6826 \n",
      "\n",
      "C:9 has an accuracy score: 0.6826 \n",
      "\n",
      "C:10 has an accuracy score: 0.6826 \n",
      "\n",
      "for 150 \n",
      "\n",
      "C:1 has an accuracy score: 0.6824 \n",
      "\n",
      "C:2 has an accuracy score: 0.6826 \n",
      "\n",
      "C:3 has an accuracy score: 0.6826 \n",
      "\n",
      "C:4 has an accuracy score: 0.6826 \n",
      "\n",
      "C:5 has an accuracy score: 0.6826 \n",
      "\n",
      "C:6 has an accuracy score: 0.6826 \n",
      "\n",
      "C:7 has an accuracy score: 0.6826 \n",
      "\n",
      "C:8 has an accuracy score: 0.6826 \n",
      "\n",
      "C:9 has an accuracy score: 0.6826 \n",
      "\n",
      "C:10 has an accuracy score: 0.6826 \n",
      "\n",
      "for 160 \n",
      "\n",
      "C:1 has an accuracy score: 0.6824 \n",
      "\n",
      "C:2 has an accuracy score: 0.6826 \n",
      "\n",
      "C:3 has an accuracy score: 0.6826 \n",
      "\n",
      "C:4 has an accuracy score: 0.6826 \n",
      "\n",
      "C:5 has an accuracy score: 0.6826 \n",
      "\n",
      "C:6 has an accuracy score: 0.6826 \n",
      "\n",
      "C:7 has an accuracy score: 0.6826 \n",
      "\n",
      "C:8 has an accuracy score: 0.6826 \n",
      "\n",
      "C:9 has an accuracy score: 0.6826 \n",
      "\n",
      "C:10 has an accuracy score: 0.6826 \n",
      "\n",
      "for 170 \n",
      "\n",
      "C:1 has an accuracy score: 0.6824 \n",
      "\n",
      "C:2 has an accuracy score: 0.6826 \n",
      "\n",
      "C:3 has an accuracy score: 0.6826 \n",
      "\n",
      "C:4 has an accuracy score: 0.6826 \n",
      "\n",
      "C:5 has an accuracy score: 0.6826 \n",
      "\n",
      "C:6 has an accuracy score: 0.6826 \n",
      "\n",
      "C:7 has an accuracy score: 0.6826 \n",
      "\n",
      "C:8 has an accuracy score: 0.6826 \n",
      "\n",
      "C:9 has an accuracy score: 0.6826 \n",
      "\n",
      "C:10 has an accuracy score: 0.6826 \n",
      "\n",
      "for 180 \n",
      "\n",
      "C:1 has an accuracy score: 0.6824 \n",
      "\n",
      "C:2 has an accuracy score: 0.6826 \n",
      "\n",
      "C:3 has an accuracy score: 0.6826 \n",
      "\n",
      "C:4 has an accuracy score: 0.6826 \n",
      "\n",
      "C:5 has an accuracy score: 0.6826 \n",
      "\n",
      "C:6 has an accuracy score: 0.6826 \n",
      "\n",
      "C:7 has an accuracy score: 0.6826 \n",
      "\n",
      "C:8 has an accuracy score: 0.6826 \n",
      "\n",
      "C:9 has an accuracy score: 0.6826 \n",
      "\n",
      "C:10 has an accuracy score: 0.6826 \n",
      "\n",
      "for 190 \n",
      "\n",
      "C:1 has an accuracy score: 0.6824 \n",
      "\n",
      "C:2 has an accuracy score: 0.6826 \n",
      "\n",
      "C:3 has an accuracy score: 0.6826 \n",
      "\n",
      "C:4 has an accuracy score: 0.6826 \n",
      "\n",
      "C:5 has an accuracy score: 0.6826 \n",
      "\n",
      "C:6 has an accuracy score: 0.6826 \n",
      "\n",
      "C:7 has an accuracy score: 0.6826 \n",
      "\n",
      "C:8 has an accuracy score: 0.6826 \n",
      "\n",
      "C:9 has an accuracy score: 0.6826 \n",
      "\n",
      "C:10 has an accuracy score: 0.6826 \n",
      "\n",
      "for 200 \n",
      "\n",
      "C:1 has an accuracy score: 0.6824 \n",
      "\n",
      "C:2 has an accuracy score: 0.6826 \n",
      "\n",
      "C:3 has an accuracy score: 0.6826 \n",
      "\n",
      "C:4 has an accuracy score: 0.6826 \n",
      "\n",
      "C:5 has an accuracy score: 0.6826 \n",
      "\n",
      "C:6 has an accuracy score: 0.6826 \n",
      "\n",
      "C:7 has an accuracy score: 0.6826 \n",
      "\n",
      "C:8 has an accuracy score: 0.6826 \n",
      "\n",
      "C:9 has an accuracy score: 0.6826 \n",
      "\n",
      "C:10 has an accuracy score: 0.6826 \n",
      "\n"
     ]
    }
   ],
   "source": [
    "for i in range(100, 210, 10):\n",
    "    print(f'for {i} \\n')\n",
    "    for n in range(1, 11, 1):\n",
    "        lr = LogisticRegression(solver='liblinear', C= n, max_iter= i)\n",
    "\n",
    "        lr.fit(X_train, y_train)\n",
    "\n",
    "        lr_score = lr.score(X_val, y_val)\n",
    "\n",
    "        print(f'C:{n} has an accuracy score: {lr_score} \\n')"
   ]
  },
  {
   "cell_type": "markdown",
   "metadata": {},
   "source": [
    "##### Highest accuracy score of 0.6826 with  `max_iter = 100 and C=2.0`"
   ]
  },
  {
   "cell_type": "code",
   "execution_count": 86,
   "metadata": {},
   "outputs": [
    {
     "name": "stdout",
     "output_type": "stream",
     "text": [
      "              precision    recall  f1-score   support\n",
      "\n",
      "           0       0.62      0.38      0.48      1873\n",
      "           1       0.70      0.86      0.77      3127\n",
      "\n",
      "    accuracy                           0.68      5000\n",
      "   macro avg       0.66      0.62      0.62      5000\n",
      "weighted avg       0.67      0.68      0.66      5000\n",
      "\n"
     ]
    }
   ],
   "source": [
    "model = LogisticRegression(solver='liblinear', C= 2, max_iter= 100)\n",
    "model.fit(X_train, y_train)\n",
    "lr_pred = model.predict(X_val)\n",
    "lr_class = classification_report(y_val, lr_pred)\n",
    "print(lr_class)"
   ]
  },
  {
   "cell_type": "code",
   "execution_count": null,
   "metadata": {},
   "outputs": [],
   "source": []
  },
  {
   "cell_type": "markdown",
   "metadata": {},
   "source": [
    "##### Random Forest"
   ]
  },
  {
   "cell_type": "code",
   "execution_count": 87,
   "metadata": {
    "scrolled": true
   },
   "outputs": [
    {
     "name": "stdout",
     "output_type": "stream",
     "text": [
      "For max-depth 5: \n",
      "\n",
      "10 estimator has an accuray_score: 0.6776\n",
      "20 estimator has an accuray_score: 0.6798\n",
      "30 estimator has an accuray_score: 0.68\n",
      "40 estimator has an accuray_score: 0.6806\n",
      "50 estimator has an accuray_score: 0.6816\n",
      "60 estimator has an accuray_score: 0.68\n",
      "70 estimator has an accuray_score: 0.6798\n",
      "80 estimator has an accuray_score: 0.6808\n",
      "90 estimator has an accuray_score: 0.68\n",
      "100 estimator has an accuray_score: 0.681\n",
      "110 estimator has an accuray_score: 0.6808\n",
      "120 estimator has an accuray_score: 0.6818\n",
      "130 estimator has an accuray_score: 0.6804\n",
      "140 estimator has an accuray_score: 0.6784\n",
      "150 estimator has an accuray_score: 0.6802\n",
      "160 estimator has an accuray_score: 0.6804\n",
      "170 estimator has an accuray_score: 0.6794\n",
      "180 estimator has an accuray_score: 0.6796\n",
      "190 estimator has an accuray_score: 0.6794\n",
      "200 estimator has an accuray_score: 0.6806\n",
      "--------------- \n",
      "\n",
      "For max-depth 10: \n",
      "\n",
      "10 estimator has an accuray_score: 0.6634\n",
      "20 estimator has an accuray_score: 0.67\n",
      "30 estimator has an accuray_score: 0.6682\n",
      "40 estimator has an accuray_score: 0.665\n",
      "50 estimator has an accuray_score: 0.6668\n",
      "60 estimator has an accuray_score: 0.6684\n",
      "70 estimator has an accuray_score: 0.6696\n",
      "80 estimator has an accuray_score: 0.67\n",
      "90 estimator has an accuray_score: 0.6686\n",
      "100 estimator has an accuray_score: 0.6692\n",
      "110 estimator has an accuray_score: 0.671\n",
      "120 estimator has an accuray_score: 0.6708\n",
      "130 estimator has an accuray_score: 0.6702\n",
      "140 estimator has an accuray_score: 0.6702\n",
      "150 estimator has an accuray_score: 0.6696\n",
      "160 estimator has an accuray_score: 0.6716\n",
      "170 estimator has an accuray_score: 0.6734\n",
      "180 estimator has an accuray_score: 0.672\n",
      "190 estimator has an accuray_score: 0.6714\n",
      "200 estimator has an accuray_score: 0.6724\n",
      "--------------- \n",
      "\n",
      "For max-depth 15: \n",
      "\n",
      "10 estimator has an accuray_score: 0.6538\n",
      "20 estimator has an accuray_score: 0.6604\n",
      "30 estimator has an accuray_score: 0.6582\n",
      "40 estimator has an accuray_score: 0.659\n",
      "50 estimator has an accuray_score: 0.6604\n",
      "60 estimator has an accuray_score: 0.6594\n",
      "70 estimator has an accuray_score: 0.6614\n",
      "80 estimator has an accuray_score: 0.6602\n",
      "90 estimator has an accuray_score: 0.6602\n",
      "100 estimator has an accuray_score: 0.6588\n",
      "110 estimator has an accuray_score: 0.6582\n",
      "120 estimator has an accuray_score: 0.6584\n",
      "130 estimator has an accuray_score: 0.6576\n",
      "140 estimator has an accuray_score: 0.6608\n",
      "150 estimator has an accuray_score: 0.661\n",
      "160 estimator has an accuray_score: 0.6608\n",
      "170 estimator has an accuray_score: 0.6594\n",
      "180 estimator has an accuray_score: 0.66\n",
      "190 estimator has an accuray_score: 0.6596\n",
      "200 estimator has an accuray_score: 0.6594\n",
      "--------------- \n",
      "\n",
      "For max-depth 20: \n",
      "\n",
      "10 estimator has an accuray_score: 0.6538\n",
      "20 estimator has an accuray_score: 0.6604\n",
      "30 estimator has an accuray_score: 0.6582\n",
      "40 estimator has an accuray_score: 0.659\n",
      "50 estimator has an accuray_score: 0.6604\n",
      "60 estimator has an accuray_score: 0.6594\n",
      "70 estimator has an accuray_score: 0.6614\n",
      "80 estimator has an accuray_score: 0.6602\n",
      "90 estimator has an accuray_score: 0.6602\n",
      "100 estimator has an accuray_score: 0.6588\n",
      "110 estimator has an accuray_score: 0.6582\n",
      "120 estimator has an accuray_score: 0.6584\n",
      "130 estimator has an accuray_score: 0.6576\n",
      "140 estimator has an accuray_score: 0.6608\n",
      "150 estimator has an accuray_score: 0.661\n",
      "160 estimator has an accuray_score: 0.6608\n",
      "170 estimator has an accuray_score: 0.6594\n",
      "180 estimator has an accuray_score: 0.66\n",
      "190 estimator has an accuray_score: 0.6596\n",
      "200 estimator has an accuray_score: 0.6594\n",
      "--------------- \n",
      "\n"
     ]
    }
   ],
   "source": [
    "for depth in [5,10,15,20]:\n",
    "    print(f'For max-depth {depth}: \\n')\n",
    "    for n in range(10, 201, 10):\n",
    "        model = RandomForestClassifier(n_estimators=n, random_state=42, n_jobs=-1, max_depth = depth)\n",
    "        model.fit(X_train, y_train)\n",
    "        rf_score = model.score(X_val, y_val)\n",
    "        print(f'{n} estimator has an accuray_score: {rf_score}')\n",
    "    print('--------------- \\n')"
   ]
  },
  {
   "cell_type": "markdown",
   "metadata": {},
   "source": [
    "##### Highest accuracy score of 0.6818 with  `max_depth = 5 and n_estimator=120`"
   ]
  },
  {
   "cell_type": "code",
   "execution_count": 88,
   "metadata": {},
   "outputs": [
    {
     "name": "stdout",
     "output_type": "stream",
     "text": [
      "              precision    recall  f1-score   support\n",
      "\n",
      "           0       0.68      0.29      0.40      1873\n",
      "           1       0.68      0.92      0.78      3127\n",
      "\n",
      "    accuracy                           0.68      5000\n",
      "   macro avg       0.68      0.60      0.59      5000\n",
      "weighted avg       0.68      0.68      0.64      5000\n",
      "\n"
     ]
    }
   ],
   "source": [
    "model = RandomForestClassifier(n_estimators=120, random_state=42, n_jobs=-1, max_depth = 5)\n",
    "model.fit(X_train, y_train)\n",
    "rf_pred = model.predict(X_val)\n",
    "rf_class = classification_report(y_val, rf_pred)\n",
    "print(rf_class)"
   ]
  },
  {
   "cell_type": "code",
   "execution_count": null,
   "metadata": {},
   "outputs": [],
   "source": []
  },
  {
   "cell_type": "markdown",
   "metadata": {},
   "source": [
    "#### Decision Tree"
   ]
  },
  {
   "cell_type": "code",
   "execution_count": 89,
   "metadata": {},
   "outputs": [
    {
     "name": "stdout",
     "output_type": "stream",
     "text": [
      "For max-depth 10: \n",
      "\n",
      "with max_leaf_nodes, 10 has an accuray_score: 0.6738\n",
      "with max_leaf_nodes, 20 has an accuray_score: 0.679\n",
      "with max_leaf_nodes, 30 has an accuray_score: 0.6838\n",
      "with max_leaf_nodes, 40 has an accuray_score: 0.683\n",
      "with max_leaf_nodes, 50 has an accuray_score: 0.6794\n",
      "with max_leaf_nodes, 60 has an accuray_score: 0.6774\n",
      "with max_leaf_nodes, 70 has an accuray_score: 0.6774\n",
      "with max_leaf_nodes, 80 has an accuray_score: 0.6766\n",
      "with max_leaf_nodes, 90 has an accuray_score: 0.6768\n",
      "with max_leaf_nodes, 100 has an accuray_score: 0.678\n",
      "with max_leaf_nodes, 110 has an accuray_score: 0.6808\n",
      "with max_leaf_nodes, 120 has an accuray_score: 0.6804\n",
      "with max_leaf_nodes, 130 has an accuray_score: 0.6822\n",
      "with max_leaf_nodes, 140 has an accuray_score: 0.6792\n",
      "with max_leaf_nodes, 150 has an accuray_score: 0.679\n",
      "with max_leaf_nodes, 160 has an accuray_score: 0.679\n",
      "with max_leaf_nodes, 170 has an accuray_score: 0.68\n",
      "with max_leaf_nodes, 180 has an accuray_score: 0.6814\n",
      "with max_leaf_nodes, 190 has an accuray_score: 0.68\n",
      "with max_leaf_nodes, 200 has an accuray_score: 0.6794\n",
      "--------------- \n",
      "\n",
      "For max-depth 15: \n",
      "\n",
      "with max_leaf_nodes, 10 has an accuray_score: 0.6738\n",
      "with max_leaf_nodes, 20 has an accuray_score: 0.679\n",
      "with max_leaf_nodes, 30 has an accuray_score: 0.6838\n",
      "with max_leaf_nodes, 40 has an accuray_score: 0.683\n",
      "with max_leaf_nodes, 50 has an accuray_score: 0.6794\n",
      "with max_leaf_nodes, 60 has an accuray_score: 0.6774\n",
      "with max_leaf_nodes, 70 has an accuray_score: 0.6774\n",
      "with max_leaf_nodes, 80 has an accuray_score: 0.6766\n",
      "with max_leaf_nodes, 90 has an accuray_score: 0.6768\n",
      "with max_leaf_nodes, 100 has an accuray_score: 0.678\n",
      "with max_leaf_nodes, 110 has an accuray_score: 0.6798\n",
      "with max_leaf_nodes, 120 has an accuray_score: 0.6792\n",
      "with max_leaf_nodes, 130 has an accuray_score: 0.6812\n",
      "with max_leaf_nodes, 140 has an accuray_score: 0.6782\n",
      "with max_leaf_nodes, 150 has an accuray_score: 0.678\n",
      "with max_leaf_nodes, 160 has an accuray_score: 0.678\n",
      "with max_leaf_nodes, 170 has an accuray_score: 0.6802\n",
      "with max_leaf_nodes, 180 has an accuray_score: 0.6766\n",
      "with max_leaf_nodes, 190 has an accuray_score: 0.6786\n",
      "with max_leaf_nodes, 200 has an accuray_score: 0.6772\n",
      "--------------- \n",
      "\n",
      "For max-depth 20: \n",
      "\n",
      "with max_leaf_nodes, 10 has an accuray_score: 0.6738\n",
      "with max_leaf_nodes, 20 has an accuray_score: 0.679\n",
      "with max_leaf_nodes, 30 has an accuray_score: 0.6838\n",
      "with max_leaf_nodes, 40 has an accuray_score: 0.683\n",
      "with max_leaf_nodes, 50 has an accuray_score: 0.6794\n",
      "with max_leaf_nodes, 60 has an accuray_score: 0.6774\n",
      "with max_leaf_nodes, 70 has an accuray_score: 0.6774\n",
      "with max_leaf_nodes, 80 has an accuray_score: 0.6766\n",
      "with max_leaf_nodes, 90 has an accuray_score: 0.6768\n",
      "with max_leaf_nodes, 100 has an accuray_score: 0.678\n",
      "with max_leaf_nodes, 110 has an accuray_score: 0.6798\n",
      "with max_leaf_nodes, 120 has an accuray_score: 0.6792\n",
      "with max_leaf_nodes, 130 has an accuray_score: 0.6812\n",
      "with max_leaf_nodes, 140 has an accuray_score: 0.6782\n",
      "with max_leaf_nodes, 150 has an accuray_score: 0.678\n",
      "with max_leaf_nodes, 160 has an accuray_score: 0.678\n",
      "with max_leaf_nodes, 170 has an accuray_score: 0.6802\n",
      "with max_leaf_nodes, 180 has an accuray_score: 0.6766\n",
      "with max_leaf_nodes, 190 has an accuray_score: 0.6786\n",
      "with max_leaf_nodes, 200 has an accuray_score: 0.6772\n",
      "--------------- \n",
      "\n",
      "For max-depth 25: \n",
      "\n",
      "with max_leaf_nodes, 10 has an accuray_score: 0.6738\n",
      "with max_leaf_nodes, 20 has an accuray_score: 0.679\n",
      "with max_leaf_nodes, 30 has an accuray_score: 0.6838\n",
      "with max_leaf_nodes, 40 has an accuray_score: 0.683\n",
      "with max_leaf_nodes, 50 has an accuray_score: 0.6794\n",
      "with max_leaf_nodes, 60 has an accuray_score: 0.6774\n",
      "with max_leaf_nodes, 70 has an accuray_score: 0.6774\n",
      "with max_leaf_nodes, 80 has an accuray_score: 0.6766\n",
      "with max_leaf_nodes, 90 has an accuray_score: 0.6768\n",
      "with max_leaf_nodes, 100 has an accuray_score: 0.678\n",
      "with max_leaf_nodes, 110 has an accuray_score: 0.6798\n",
      "with max_leaf_nodes, 120 has an accuray_score: 0.6792\n",
      "with max_leaf_nodes, 130 has an accuray_score: 0.6812\n",
      "with max_leaf_nodes, 140 has an accuray_score: 0.6782\n",
      "with max_leaf_nodes, 150 has an accuray_score: 0.678\n",
      "with max_leaf_nodes, 160 has an accuray_score: 0.678\n",
      "with max_leaf_nodes, 170 has an accuray_score: 0.6802\n",
      "with max_leaf_nodes, 180 has an accuray_score: 0.6766\n",
      "with max_leaf_nodes, 190 has an accuray_score: 0.6786\n",
      "with max_leaf_nodes, 200 has an accuray_score: 0.6772\n",
      "--------------- \n",
      "\n"
     ]
    }
   ],
   "source": [
    "for depth in [10,15,20,25]:\n",
    "    print(f'For max-depth {depth}: \\n')\n",
    "    for n in range(10, 201, 10):\n",
    "        model = DecisionTreeClassifier(max_depth=depth, max_leaf_nodes=n, random_state=42)\n",
    "        model.fit(X_train, y_train)\n",
    "        rf_score = model.score(X_val, y_val)\n",
    "        print(f'with max_leaf_nodes, {n} has an accuray_score: {rf_score}')\n",
    "    print('--------------- \\n')"
   ]
  },
  {
   "cell_type": "markdown",
   "metadata": {},
   "source": [
    "##### Highest accuracy score of 0.6838 with  `max_depth = 10 and max_leaf_nodes=30`"
   ]
  },
  {
   "cell_type": "code",
   "execution_count": 90,
   "metadata": {},
   "outputs": [
    {
     "name": "stdout",
     "output_type": "stream",
     "text": [
      "              precision    recall  f1-score   support\n",
      "\n",
      "           0       0.65      0.34      0.44      1873\n",
      "           1       0.69      0.89      0.78      3127\n",
      "\n",
      "    accuracy                           0.68      5000\n",
      "   macro avg       0.67      0.61      0.61      5000\n",
      "weighted avg       0.68      0.68      0.65      5000\n",
      "\n"
     ]
    }
   ],
   "source": [
    "model = DecisionTreeClassifier(max_depth=10, max_leaf_nodes=30, random_state=42)\n",
    "model.fit(X_train, y_train)\n",
    "dt_pred = model.predict(X_val)\n",
    "dt_class = classification_report(y_val, dt_pred)\n",
    "print(dt_class)"
   ]
  },
  {
   "cell_type": "code",
   "execution_count": null,
   "metadata": {},
   "outputs": [],
   "source": []
  },
  {
   "cell_type": "code",
   "execution_count": 91,
   "metadata": {},
   "outputs": [],
   "source": [
    "# from sklearn.linear_model import RidgeClassifier"
   ]
  },
  {
   "cell_type": "code",
   "execution_count": 92,
   "metadata": {},
   "outputs": [
    {
     "name": "stdout",
     "output_type": "stream",
     "text": [
      "for alpha = 0.001, accuracy score is 0.6822\n",
      "for alpha = 0.01, accuracy score is 0.6822\n",
      "for alpha = 0.1, accuracy score is 0.6822\n",
      "for alpha = 1, accuracy score is 0.6822\n",
      "for alpha = 10, accuracy score is 0.6822\n"
     ]
    }
   ],
   "source": [
    "for i in [0.001, 0.01, 0.1, 1, 10]:\n",
    "    rcl = RidgeClassifier(solver=\"sag\", alpha=0.01, random_state=42)\n",
    "\n",
    "    rcl.fit(X_train, y_train)\n",
    "\n",
    "    rcl_score = rcl.score(X_val, y_val)\n",
    "\n",
    "    print(f'for alpha = {i}, accuracy score is {rcl_score}')"
   ]
  },
  {
   "cell_type": "markdown",
   "metadata": {},
   "source": [
    "##### Highest accuracy score of 0.6826"
   ]
  },
  {
   "cell_type": "code",
   "execution_count": 93,
   "metadata": {},
   "outputs": [
    {
     "name": "stdout",
     "output_type": "stream",
     "text": [
      "              precision    recall  f1-score   support\n",
      "\n",
      "           0       0.63      0.38      0.47      1873\n",
      "           1       0.70      0.86      0.77      3127\n",
      "\n",
      "    accuracy                           0.68      5000\n",
      "   macro avg       0.66      0.62      0.62      5000\n",
      "weighted avg       0.67      0.68      0.66      5000\n",
      "\n"
     ]
    }
   ],
   "source": [
    "model = RidgeClassifier(solver=\"sag\", alpha=0.01, random_state=42)\n",
    "model.fit(X_train, y_train)\n",
    "rd_pred = model.predict(X_val)\n",
    "rd_class = classification_report(y_val, rd_pred)\n",
    "print(rd_class)"
   ]
  },
  {
   "cell_type": "code",
   "execution_count": null,
   "metadata": {},
   "outputs": [],
   "source": []
  },
  {
   "cell_type": "markdown",
   "metadata": {},
   "source": [
    "### Precison vs. Recall Plot"
   ]
  },
  {
   "cell_type": "code",
   "execution_count": 94,
   "metadata": {},
   "outputs": [
    {
     "data": {
      "image/png": "[encoded data removed]",
      "text/plain": [
       "<Figure size 1080x720 with 1 Axes>"
      ]
     },
     "metadata": {},
     "output_type": "display_data"
    }
   ],
   "source": [
    "plt.figure(figsize=(15,10))\n",
    "\n",
    "dt_precision, dt_recall, dt_thresholds = precision_recall_curve(dt_pred,y_val)\n",
    "rf_precision, rf_recall, rf_thresholds = precision_recall_curve(rf_pred,y_val)\n",
    "lr_precision, lr_recall, lr_thresholds = precision_recall_curve(lr_pred,y_val)\n",
    "rd_precision, rd_recall, rd_thresholds = precision_recall_curve(rd_pred,y_val)\n",
    "\n",
    "\n",
    "plt.plot(rf_recall, rf_precision, label='RandomForest')\n",
    "plt.plot(dt_recall, dt_precision, label=\"DecisionTree\")\n",
    "plt.plot(rd_recall, rd_precision, label='Ridge')\n",
    "plt.plot(lr_recall, lr_precision, label='Logistic')\n",
    "\n",
    "\n",
    "plt.ylabel(\"Precision\", size=18)\n",
    "plt.xlabel(\"Recall\", size=18)\n",
    "plt.title(\"Precision_Recall Curve\")\n",
    "plt.legend()\n",
    "plt.xticks(np.arange(0,1.1,0.1))\n",
    "plt.title(\"Train Precision-Recall curve\");\n",
    "plt.show()"
   ]
  },
  {
   "cell_type": "markdown",
   "metadata": {},
   "source": [
    "##### Based on the `Precision_Recall Curve`, the model for RandomForest performs the best"
   ]
  },
  {
   "cell_type": "code",
   "execution_count": null,
   "metadata": {},
   "outputs": [],
   "source": []
  },
  {
   "cell_type": "code",
   "execution_count": null,
   "metadata": {},
   "outputs": [],
   "source": []
  },
  {
   "cell_type": "markdown",
   "metadata": {},
   "source": [
    "### Prediction"
   ]
  },
  {
   "cell_type": "code",
   "execution_count": 95,
   "metadata": {},
   "outputs": [
    {
     "data": {
      "text/plain": [
       "['systemic_illness']"
      ]
     },
     "execution_count": 95,
     "metadata": {},
     "output_type": "execute_result"
    }
   ],
   "source": [
    "cat_col = ['systemic_illness']\n",
    "cat_col"
   ]
  },
  {
   "cell_type": "code",
   "execution_count": 96,
   "metadata": {},
   "outputs": [],
   "source": [
    "# dicts_full_train = df_full_train[categorical + numerical].to_dict(orient='records')"
   ]
  },
  {
   "cell_type": "code",
   "execution_count": 97,
   "metadata": {},
   "outputs": [],
   "source": [
    "dicts_full_train = data_full_train[bool_cols + cat_col].to_dict(orient='records')"
   ]
  },
  {
   "cell_type": "code",
   "execution_count": 98,
   "metadata": {},
   "outputs": [],
   "source": [
    "dv = DictVectorizer(sparse=False)\n",
    "X_full_train = dv.fit_transform(dicts_full_train).astype(int)"
   ]
  },
  {
   "cell_type": "code",
   "execution_count": 99,
   "metadata": {},
   "outputs": [],
   "source": [
    "y_full_train = data_full_train.monkeypox.values"
   ]
  },
  {
   "cell_type": "code",
   "execution_count": 100,
   "metadata": {},
   "outputs": [
    {
     "data": {
      "text/plain": [
       "RandomForestClassifier(max_depth=5, n_estimators=120, n_jobs=-1,\n",
       "                       random_state=42)"
      ]
     },
     "execution_count": 100,
     "metadata": {},
     "output_type": "execute_result"
    }
   ],
   "source": [
    "modelrf = RandomForestClassifier(n_estimators=120, random_state=42, n_jobs=-1, max_depth = 5)\n",
    "modelrf.fit(X_full_train, y_full_train)\n"
   ]
  },
  {
   "cell_type": "code",
   "execution_count": 101,
   "metadata": {},
   "outputs": [],
   "source": [
    "dicts_test = data_test[bool_cols + cat_col].to_dict(orient='records')\n",
    "X_test = dv.transform(dicts_test).astype(int)"
   ]
  },
  {
   "cell_type": "code",
   "execution_count": 102,
   "metadata": {},
   "outputs": [
    {
     "name": "stdout",
     "output_type": "stream",
     "text": [
      "              precision    recall  f1-score   support\n",
      "\n",
      "           0       0.68      0.29      0.40      1873\n",
      "           1       0.68      0.92      0.78      3127\n",
      "\n",
      "    accuracy                           0.68      5000\n",
      "   macro avg       0.68      0.60      0.59      5000\n",
      "weighted avg       0.68      0.68      0.64      5000\n",
      "\n",
      "\n",
      " Improved accuracy score of 0.701 with RandomForest Classifier\n"
     ]
    }
   ],
   "source": [
    "rfp_pred = modelrf.predict(X_test)\n",
    "rfp_class = classification_report(y_test, rfp_pred)\n",
    "rfp_score = accuracy_score(y_test, rfp_pred)\n",
    "print(rf_class)\n",
    "print(f'\\n Improved accuracy score of {rfp_score} with RandomForest Classifier')"
   ]
  },
  {
   "cell_type": "code",
   "execution_count": null,
   "metadata": {},
   "outputs": [],
   "source": []
  },
  {
   "cell_type": "code",
   "execution_count": null,
   "metadata": {},
   "outputs": [],
   "source": []
  },
  {
   "cell_type": "code",
   "execution_count": 103,
   "metadata": {},
   "outputs": [],
   "source": [
    "# import pickle\n",
    "# # open a file, where you ant to store the data\n",
    "# file = open('model.pkl', 'wb')\n",
    "\n",
    "# # dump information to that file\n",
    "# pickle.dump(modelrf, file)"
   ]
  },
  {
   "cell_type": "code",
   "execution_count": 104,
   "metadata": {},
   "outputs": [],
   "source": [
    "# model = open('model.pkl','rb')\n",
    "# forest = pickle.load(model)"
   ]
  },
  {
   "cell_type": "code",
   "execution_count": 105,
   "metadata": {},
   "outputs": [],
   "source": [
    "# X_train.shape"
   ]
  },
  {
   "cell_type": "code",
   "execution_count": 106,
   "metadata": {},
   "outputs": [],
   "source": [
    "# pickle_rand = forest.predict([[0,0,0,1,0,0,0,0,0,1,0,1]])\n",
    "# print(pickle_rand)"
   ]
  },
  {
   "cell_type": "code",
   "execution_count": null,
   "metadata": {},
   "outputs": [],
   "source": []
  }
 ],
 "metadata": {
  "kernelspec": {
   "display_name": "Python 3",
   "language": "python",
   "name": "python3"
  },
  "language_info": {
   "codemirror_mode": {
    "name": "ipython",
    "version": 3
   },
   "file_extension": ".py",
   "mimetype": "text/x-python",
   "name": "python",
   "nbconvert_exporter": "python",
   "pygments_lexer": "ipython3",
   "version": "3.6.1"
  }
 },
 "nbformat": 4,
 "nbformat_minor": 4
}
